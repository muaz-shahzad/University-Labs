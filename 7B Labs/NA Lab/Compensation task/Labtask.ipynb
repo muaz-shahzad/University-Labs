{
  "nbformat": 4,
  "nbformat_minor": 0,
  "metadata": {
    "colab": {
      "provenance": []
    },
    "kernelspec": {
      "name": "python3",
      "display_name": "Python 3"
    },
    "language_info": {
      "name": "python"
    }
  },
  "cells": [
    {
      "cell_type": "code",
      "source": [
        "import sympy as sp\n",
        "\n",
        "def trapezoidal_rule(f, a, b, n):\n",
        "    h = (b - a) / n\n",
        "    x_values = [a + i * h for i in range(n + 1)]\n",
        "    return h * (0.5 * (f(a) + f(b)) + sum(f(x) for x in x_values[1:-1]))\n",
        "\n",
        "def simpsons_rule(f, a, b, n, rule_type):\n",
        "    h = (b - a) / n\n",
        "    x_values = [a + i * h for i in range(n + 1)]\n",
        "    result = f(a) + f(b)\n",
        "\n",
        "    if rule_type == '1/3':\n",
        "        result += 4 * sum(f(x) for x in x_values[1:n:2])\n",
        "        result += 2 * sum(f(x) for x in x_values[2:n-1:2])\n",
        "        return h * result / 3\n",
        "    elif rule_type == '3/8':\n",
        "        result += 3 * sum(f(x) + f(x + h) for x in x_values[1:n:3])\n",
        "        result += 2 * sum(f(x) for x in x_values[3:n-2:3])\n",
        "        return (3 * h * result) / 8\n",
        "\n",
        "def integrate(f, a, b, n, method='trapezoidal'):\n",
        "    if method == 'trapezoidal':\n",
        "        return trapezoidal_rule(f, a, b, n)\n",
        "    elif method == 'simpsons_1/3':\n",
        "        return simpsons_rule(f, a, b, n, '1/3')\n",
        "    elif method == 'simpsons_3/8':\n",
        "        return simpsons_rule(f, a, b, n, '3/8')\n",
        "\n",
        "# Example with a quadratic function: f(x) = x^2\n",
        "x = sp.symbols('x')\n",
        "f = lambda x: x**2\n",
        "\n",
        "# Integration parameters\n",
        "a = 0\n",
        "b = 2\n",
        "n = 4\n",
        "\n",
        "# Perform integration\n",
        "methods = ['trapezoidal', 'simpsons_1/3', 'simpsons_3/8']\n",
        "for method in methods:\n",
        "    result = integrate(f, a, b, n, method)\n",
        "    print(f\"{method.capitalize()} Rule: {result}\")\n"
      ],
      "metadata": {
        "colab": {
          "base_uri": "https://localhost:8080/"
        },
        "id": "BC_dnBfLsMar",
        "outputId": "48821c9d-8dbf-4be7-e8ac-b265117152e6"
      },
      "execution_count": 6,
      "outputs": [
        {
          "output_type": "stream",
          "name": "stdout",
          "text": [
            "Trapezoidal Rule: 2.75\n",
            "Simpsons_1/3 Rule: 2.6666666666666665\n",
            "Simpsons_3/8 Rule: 1.453125\n"
          ]
        }
      ]
    }
  ]
}